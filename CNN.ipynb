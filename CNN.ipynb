{
  "nbformat": 4,
  "nbformat_minor": 0,
  "metadata": {
    "colab": {
      "provenance": [],
      "authorship_tag": "ABX9TyM8JdzshwVFehhN66lSsKrg",
      "include_colab_link": true
    },
    "kernelspec": {
      "name": "python3",
      "display_name": "Python 3"
    },
    "language_info": {
      "name": "python"
    }
  },
  "cells": [
    {
      "cell_type": "markdown",
      "metadata": {
        "id": "view-in-github",
        "colab_type": "text"
      },
      "source": [
        "<a href=\"https://colab.research.google.com/github/Emanalytics7/Deeplearning-from-scratch/blob/main/CNN.ipynb\" target=\"_parent\"><img src=\"https://colab.research.google.com/assets/colab-badge.svg\" alt=\"Open In Colab\"/></a>"
      ]
    },
    {
      "cell_type": "markdown",
      "source": [
        "# **Digit Recognition using MNIST + Pytorch**\n"
      ],
      "metadata": {
        "id": "kvjqUegXoDbq"
      }
    },
    {
      "cell_type": "markdown",
      "source": [
        "*if you wanna know how much you know...teach someone.. so here i'm explaining things to YOU..  :)*"
      ],
      "metadata": {
        "id": "GQr1YTwdpAQo"
      }
    },
    {
      "cell_type": "code",
      "execution_count": null,
      "metadata": {
        "id": "wOqqQKEnm7BM"
      },
      "outputs": [],
      "source": [
        "import torch\n",
        "import numpy as np\n",
        "from torchvision import datasets, transforms\n",
        "from pathlib import Path\n",
        "import os\n",
        "import torch.nn as nn\n",
        "from torchsummary import summary\n",
        "import  torch.optim as optim\n",
        "from time import time"
      ]
    },
    {
      "cell_type": "code",
      "source": [
        "p = Path('data')\n",
        "p.mkdir(exist_ok=True)"
      ],
      "metadata": {
        "id": "heyUIbbrokzv"
      },
      "execution_count": null,
      "outputs": []
    },
    {
      "cell_type": "code",
      "source": [
        "transform = transforms.Compose([transforms.ToTensor(),\n",
        "                               transforms.Normalize((0.5, ), (0.5,))])"
      ],
      "metadata": {
        "id": "2fbTVCNovtQ1"
      },
      "execution_count": null,
      "outputs": []
    },
    {
      "cell_type": "code",
      "source": [
        "tdataset = datasets.MNIST(p, train=True, download=True, transform=transform)\n",
        "vdataset = datasets.MNIST(p, train=False, download=True, transform=transform)"
      ],
      "metadata": {
        "colab": {
          "base_uri": "https://localhost:8080/"
        },
        "id": "rdR37FaRoVIf",
        "outputId": "5f16ac67-f10d-4396-f20f-2c0387e591f2"
      },
      "execution_count": null,
      "outputs": [
        {
          "output_type": "stream",
          "name": "stdout",
          "text": [
            "Downloading http://yann.lecun.com/exdb/mnist/train-images-idx3-ubyte.gz\n",
            "Failed to download (trying next):\n",
            "<urlopen error [SSL: CERTIFICATE_VERIFY_FAILED] certificate verify failed: certificate has expired (_ssl.c:1007)>\n",
            "\n",
            "Downloading https://ossci-datasets.s3.amazonaws.com/mnist/train-images-idx3-ubyte.gz\n",
            "Downloading https://ossci-datasets.s3.amazonaws.com/mnist/train-images-idx3-ubyte.gz to data/MNIST/raw/train-images-idx3-ubyte.gz\n"
          ]
        },
        {
          "output_type": "stream",
          "name": "stderr",
          "text": [
            "100%|██████████| 9.91M/9.91M [00:00<00:00, 47.8MB/s]\n"
          ]
        },
        {
          "output_type": "stream",
          "name": "stdout",
          "text": [
            "Extracting data/MNIST/raw/train-images-idx3-ubyte.gz to data/MNIST/raw\n",
            "\n",
            "Downloading http://yann.lecun.com/exdb/mnist/train-labels-idx1-ubyte.gz\n",
            "Failed to download (trying next):\n",
            "<urlopen error [SSL: CERTIFICATE_VERIFY_FAILED] certificate verify failed: certificate has expired (_ssl.c:1007)>\n",
            "\n",
            "Downloading https://ossci-datasets.s3.amazonaws.com/mnist/train-labels-idx1-ubyte.gz\n",
            "Downloading https://ossci-datasets.s3.amazonaws.com/mnist/train-labels-idx1-ubyte.gz to data/MNIST/raw/train-labels-idx1-ubyte.gz\n"
          ]
        },
        {
          "output_type": "stream",
          "name": "stderr",
          "text": [
            "100%|██████████| 28.9k/28.9k [00:00<00:00, 1.56MB/s]"
          ]
        },
        {
          "output_type": "stream",
          "name": "stdout",
          "text": [
            "Extracting data/MNIST/raw/train-labels-idx1-ubyte.gz to data/MNIST/raw\n",
            "\n",
            "Downloading http://yann.lecun.com/exdb/mnist/t10k-images-idx3-ubyte.gz\n"
          ]
        },
        {
          "output_type": "stream",
          "name": "stderr",
          "text": [
            "\n"
          ]
        },
        {
          "output_type": "stream",
          "name": "stdout",
          "text": [
            "Failed to download (trying next):\n",
            "<urlopen error [SSL: CERTIFICATE_VERIFY_FAILED] certificate verify failed: certificate has expired (_ssl.c:1007)>\n",
            "\n",
            "Downloading https://ossci-datasets.s3.amazonaws.com/mnist/t10k-images-idx3-ubyte.gz\n",
            "Downloading https://ossci-datasets.s3.amazonaws.com/mnist/t10k-images-idx3-ubyte.gz to data/MNIST/raw/t10k-images-idx3-ubyte.gz\n"
          ]
        },
        {
          "output_type": "stream",
          "name": "stderr",
          "text": [
            "100%|██████████| 1.65M/1.65M [00:00<00:00, 13.1MB/s]\n"
          ]
        },
        {
          "output_type": "stream",
          "name": "stdout",
          "text": [
            "Extracting data/MNIST/raw/t10k-images-idx3-ubyte.gz to data/MNIST/raw\n",
            "\n",
            "Downloading http://yann.lecun.com/exdb/mnist/t10k-labels-idx1-ubyte.gz\n",
            "Failed to download (trying next):\n",
            "<urlopen error [SSL: CERTIFICATE_VERIFY_FAILED] certificate verify failed: certificate has expired (_ssl.c:1007)>\n",
            "\n",
            "Downloading https://ossci-datasets.s3.amazonaws.com/mnist/t10k-labels-idx1-ubyte.gz\n",
            "Downloading https://ossci-datasets.s3.amazonaws.com/mnist/t10k-labels-idx1-ubyte.gz to data/MNIST/raw/t10k-labels-idx1-ubyte.gz\n"
          ]
        },
        {
          "output_type": "stream",
          "name": "stderr",
          "text": [
            "100%|██████████| 4.54k/4.54k [00:00<00:00, 3.98MB/s]\n"
          ]
        },
        {
          "output_type": "stream",
          "name": "stdout",
          "text": [
            "Extracting data/MNIST/raw/t10k-labels-idx1-ubyte.gz to data/MNIST/raw\n",
            "\n"
          ]
        }
      ]
    },
    {
      "cell_type": "code",
      "source": [
        "len(tdataset), len(vdataset)"
      ],
      "metadata": {
        "colab": {
          "base_uri": "https://localhost:8080/"
        },
        "id": "SMvx0dUNanol",
        "outputId": "697e50f8-1604-409c-e8a7-c86811d3de14"
      },
      "execution_count": null,
      "outputs": [
        {
          "output_type": "execute_result",
          "data": {
            "text/plain": [
              "(60000, 10000)"
            ]
          },
          "metadata": {},
          "execution_count": 5
        }
      ]
    },
    {
      "cell_type": "code",
      "source": [
        "trainlr = torch.utils.data.DataLoader(tdataset, batch_size=64, shuffle=True)\n",
        "valr = torch.utils.data.DataLoader(vdataset, batch_size=64, shuffle=True)"
      ],
      "metadata": {
        "id": "-lVEKUY1pdyo"
      },
      "execution_count": null,
      "outputs": []
    },
    {
      "cell_type": "code",
      "source": [
        "dataiter = iter(trainlr)\n",
        "i, l = next(dataiter)\n",
        "print(i.shape, l.shape)"
      ],
      "metadata": {
        "colab": {
          "base_uri": "https://localhost:8080/"
        },
        "id": "LTcT-vInwR7w",
        "outputId": "1ffab79d-f3f2-4328-c386-bb2f0974b16e"
      },
      "execution_count": null,
      "outputs": [
        {
          "output_type": "stream",
          "name": "stdout",
          "text": [
            "torch.Size([64, 1, 28, 28]) torch.Size([64])\n"
          ]
        }
      ]
    },
    {
      "cell_type": "code",
      "source": [
        "i[0].numpy().shape"
      ],
      "metadata": {
        "colab": {
          "base_uri": "https://localhost:8080/"
        },
        "id": "iLUtZ6SExNYq",
        "outputId": "d1ecdac4-4948-4b29-c892-b3f4190f2c4c"
      },
      "execution_count": null,
      "outputs": [
        {
          "output_type": "execute_result",
          "data": {
            "text/plain": [
              "(1, 28, 28)"
            ]
          },
          "metadata": {},
          "execution_count": 8
        }
      ]
    },
    {
      "cell_type": "code",
      "source": [
        "i[0].numpy().squeeze().shape"
      ],
      "metadata": {
        "colab": {
          "base_uri": "https://localhost:8080/"
        },
        "id": "1RisJDB_xR2Q",
        "outputId": "7e741aa7-8498-4dc8-d576-a619d15af84f"
      },
      "execution_count": null,
      "outputs": [
        {
          "output_type": "execute_result",
          "data": {
            "text/plain": [
              "(28, 28)"
            ]
          },
          "metadata": {},
          "execution_count": 9
        }
      ]
    },
    {
      "cell_type": "code",
      "source": [
        "import matplotlib.pyplot as plt\n",
        "\n",
        "plt.imshow(i[0].numpy().squeeze(), cmap='gray_r')"
      ],
      "metadata": {
        "colab": {
          "base_uri": "https://localhost:8080/",
          "height": 447
        },
        "id": "JV1STfaMwnqz",
        "outputId": "01735e6b-1e5d-4cc3-c9a6-c35da1f156ef"
      },
      "execution_count": null,
      "outputs": [
        {
          "output_type": "execute_result",
          "data": {
            "text/plain": [
              "<matplotlib.image.AxesImage at 0x7b57654285e0>"
            ]
          },
          "metadata": {},
          "execution_count": 10
        },
        {
          "output_type": "display_data",
          "data": {
            "text/plain": [
              "<Figure size 640x480 with 1 Axes>"
            ],
            "image/png": "[encoded data removed]"
          },
          "metadata": {}
        }
      ]
    },
    {
      "cell_type": "code",
      "source": [
        "f = plt.figure()\n",
        "n = 60\n",
        "for k in range(1, n + 1):\n",
        "    plt.subplot(6, 10, k)\n",
        "    plt.axis('off')\n",
        "    plt.imshow(i[k].numpy().squeeze(), cmap='gray_r')"
      ],
      "metadata": {
        "colab": {
          "base_uri": "https://localhost:8080/",
          "height": 395
        },
        "id": "Qi7Lk5gdxYg1",
        "outputId": "bb010708-d4bc-4b89-d24a-96a478465ea9"
      },
      "execution_count": null,
      "outputs": [
        {
          "output_type": "display_data",
          "data": {
            "text/plain": [
              "<Figure size 640x480 with 60 Axes>"
            ],
            "image/png": "[encoded data removed]"
          },
          "metadata": {}
        }
      ]
    },
    {
      "cell_type": "markdown",
      "source": [
        "## **Simple FeedForward Network**"
      ],
      "metadata": {
        "id": "32dS_bO4VV5M"
      }
    },
    {
      "cell_type": "code",
      "source": [
        "class MNIST(nn.Module):\n",
        "    def __init__(self, input_size, hidden_size, output_size=10):\n",
        "        super(MNIST, self).__init__()\n",
        "        self.i = nn.Linear(input_size, hidden_size)\n",
        "        self.ia = nn.ReLU()\n",
        "        self.h = nn.Linear(hidden_size, hidden_size)\n",
        "        self.ha = nn.ReLU()\n",
        "        self.o = nn.Linear(hidden_size, output_size)\n",
        "        self.oa = nn.LogSoftmax(dim=1)\n",
        "\n",
        "    def forward(self, x):\n",
        "        x = x.view(x.size(0), -1)\n",
        "        x = self.ia(self.i(x))\n",
        "        x = self.ha(self.h(x))\n",
        "        x = self.oa(self.o(x))\n",
        "        return x"
      ],
      "metadata": {
        "id": "xK4pKpHqxowi"
      },
      "execution_count": null,
      "outputs": []
    },
    {
      "cell_type": "markdown",
      "source": [
        "## ***But why-not softmax ? and what the heck is this logsoftmax :|***\n",
        "\n",
        "we started from pytorch and ends up in math ..\n",
        "\n",
        "**What is even softmax activation function?**\n",
        "\n",
        "> Softmax take a vector of raw output(logits) and convert them into probabilities. these probabilities are all positive and sum up to 1\n",
        "\n",
        " here's the formula:\n",
        "\n",
        " $$\n",
        " softmax(x_i) = \\frac{e^{x_i}}{Σ{e^{x_{j}}}}\n",
        " $$\n",
        "\n",
        "**LOGITS** : these are basically the raw confidence scores from the output layer before passing through the activation function\n",
        "\n",
        "these usually looks like this:\n",
        "\n",
        "`logits = [50,55, 20, 10, 53 ,64]`\n",
        "\n",
        "so if we calcualte the exponents here like this\n",
        "\n",
        "$e^{50}, e^{55}$\n",
        "\n",
        "\n",
        "**the value of $𝑒^{55}$ is very large (approximately $5.9×10^{23}$ ) which can lead to overflow issues in calculations if the values exceed the maximum number that can be represented in floatingpoint arithmetic**\n",
        "\n",
        "##**resulting Probabilities**:\n",
        "\n",
        "If we compute the softmax normally:  \n",
        "\n",
        "For class 0 (logit = 50):  \n",
        "$$  \n",
        "P_0 = \\frac{e^{50}}{e^{50} + e^{55} + \\ldots} \\approx \\frac{5.2 \\times 10^{21}}{5.9 \\times 10^{23}} \\approx 0.088  \n",
        "$$  \n",
        "\n",
        "For class 1 (logit = 55):  \n",
        "$$  \n",
        "P_1 = \\frac{e^{55}}{e^{50} + e^{55} + \\ldots} \\approx \\frac{5.9 \\times 10^{23}}{5.9 \\times 10^{23}} = 1  \n",
        "$$\n",
        "\n",
        "\n",
        "> *e very small values of the other classes (e.g., P 0, P 2\n",
        ", etc.) may become so small that they round down to zero in floating point representation. which  means the model effectively only predicts the class with the highest logit, losing all information about the other classes.*\n",
        "\n",
        "\n",
        "## **how the log Softmax helps**\n",
        "\n",
        "instead of calculating  $e^{x_j}$ directly we can subtract the maximum logit (55 in this case) from each logit before applying the softmax formula.\n",
        "\n",
        "this prevents large exponentials:  \n",
        "\n",
        "$$  \n",
        "\\text{logsoftmax}(x_i) = x_i - \\log\\left(\\sum_j e^{x_j - \\max(x)}\\right)  \n",
        "$$  \n",
        "\n",
        "The logits would then be:  \n",
        "\n",
        "Logits adjusted:    \n",
        "`[50-55, 55-55, 53-55, 52-55, 48-55, 49-55, 50-55, 51-55, 52-55, 53-55] `\n",
        "`[-5, 0, -2, -3, -7, -6, -5, -4, -3, -2]`\n",
        "\n",
        "## **Resutling Probs**\n",
        "\n",
        "For Class 1 (the highest logit):  \n",
        "$$  \n",
        "\\text{logsoftmax}(55) = 0  \n",
        "$$  \n",
        "\n",
        "For Class 0:  \n",
        "$$  \n",
        "\\text{logsoftmax}(50) = -5  \n",
        "$$  \n",
        "\n",
        "the log probabilities will be negative values but they remain well within the limits of floating point representation which will going to preventing overflow"
      ],
      "metadata": {
        "id": "CLGhVyzTc1Wx"
      }
    },
    {
      "cell_type": "code",
      "source": [
        "model = MNIST(input_size=784, hidden_size=128)\n",
        "summary(model, (1, 28, 28))"
      ],
      "metadata": {
        "colab": {
          "base_uri": "https://localhost:8080/"
        },
        "id": "ITIJwjvDzSzj",
        "outputId": "80aedaf8-2905-4bb4-e039-2c92a120560b"
      },
      "execution_count": null,
      "outputs": [
        {
          "output_type": "stream",
          "name": "stdout",
          "text": [
            "----------------------------------------------------------------\n",
            "        Layer (type)               Output Shape         Param #\n",
            "================================================================\n",
            "            Linear-1                  [-1, 128]         100,480\n",
            "              ReLU-2                  [-1, 128]               0\n",
            "            Linear-3                  [-1, 128]          16,512\n",
            "              ReLU-4                  [-1, 128]               0\n",
            "            Linear-5                   [-1, 10]           1,290\n",
            "        LogSoftmax-6                   [-1, 10]               0\n",
            "================================================================\n",
            "Total params: 118,282\n",
            "Trainable params: 118,282\n",
            "Non-trainable params: 0\n",
            "----------------------------------------------------------------\n",
            "Input size (MB): 0.00\n",
            "Forward/backward pass size (MB): 0.00\n",
            "Params size (MB): 0.45\n",
            "Estimated Total Size (MB): 0.46\n",
            "----------------------------------------------------------------\n"
          ]
        }
      ]
    },
    {
      "cell_type": "code",
      "source": [
        "criterion = nn.NLLLoss() ## negative log likelihood loss used for logsoftmax\n",
        "optimizer = optim.SGD(model.parameters(), lr=0.001, momentum=0.9)"
      ],
      "metadata": {
        "id": "6hYaC-hRzV5Q"
      },
      "execution_count": null,
      "outputs": []
    },
    {
      "cell_type": "code",
      "source": [
        "time0 = time()\n",
        "epochs = 15\n",
        "for e in range(epochs):\n",
        "    r = 0.0\n",
        "    for i, l in trainlr:\n",
        "        optimizer.zero_grad()\n",
        "        output = model(i)\n",
        "        loss = criterion(output, l)\n",
        "        loss.backward()\n",
        "        optimizer.step()\n",
        "        r += loss.item()\n",
        "    else:\n",
        "        print('Epoch {} - Training loss: {}'.format(e, r / len(trainlr)))\n",
        "\n",
        "print(\"\\nTraining Time (in minutes) =\",(time()-time0)/60)"
      ],
      "metadata": {
        "colab": {
          "base_uri": "https://localhost:8080/"
        },
        "id": "1rnVWT6q0Aji",
        "outputId": "19016580-14ee-497c-809b-1bb2e4855c1f"
      },
      "execution_count": null,
      "outputs": [
        {
          "output_type": "stream",
          "name": "stdout",
          "text": [
            "Epoch 0 - Training loss: 1.0250936779799238\n",
            "Epoch 1 - Training loss: 0.37753917491321626\n",
            "Epoch 2 - Training loss: 0.3208653716437979\n",
            "Epoch 3 - Training loss: 0.28949061191793696\n",
            "Epoch 4 - Training loss: 0.26401559396911023\n",
            "Epoch 5 - Training loss: 0.24191181182956645\n",
            "Epoch 6 - Training loss: 0.22272296089416882\n",
            "Epoch 7 - Training loss: 0.2044416396999791\n",
            "Epoch 8 - Training loss: 0.18885839214600098\n",
            "Epoch 9 - Training loss: 0.17535823357821717\n",
            "Epoch 10 - Training loss: 0.16293306595711374\n",
            "Epoch 11 - Training loss: 0.15276957574937897\n",
            "Epoch 12 - Training loss: 0.14279752941543994\n",
            "Epoch 13 - Training loss: 0.13459175959952288\n",
            "Epoch 14 - Training loss: 0.1262005584588501\n",
            "\n",
            "Training Time (in minutes) = 4.994933370749155\n"
          ]
        }
      ]
    },
    {
      "cell_type": "markdown",
      "source": [
        "## **Model in evaluation mode.. huh?**\n",
        "\n",
        "* first if we have dropout layers(so no neurons are randomly turned off to prevent overfitting)\n",
        "* batch normalization layers to use overall statistics from training instead of the statistics from the current batch\n",
        "\n",
        "if we don't use `model.eval()` when testing our model, the results we get might be inaccurate because model is still acting as if it's in training mode"
      ],
      "metadata": {
        "id": "a9GVkFkqbIzR"
      }
    },
    {
      "cell_type": "code",
      "source": [
        "model.eval()"
      ],
      "metadata": {
        "colab": {
          "base_uri": "https://localhost:8080/"
        },
        "id": "JDj4VTP9Z7ES",
        "outputId": "8d72e150-c5b3-4214-a573-304a794eaf62"
      },
      "execution_count": null,
      "outputs": [
        {
          "output_type": "execute_result",
          "data": {
            "text/plain": [
              "MNIST(\n",
              "  (i): Linear(in_features=784, out_features=128, bias=True)\n",
              "  (ia): ReLU()\n",
              "  (h): Linear(in_features=128, out_features=128, bias=True)\n",
              "  (ha): ReLU()\n",
              "  (o): Linear(in_features=128, out_features=10, bias=True)\n",
              "  (oa): LogSoftmax(dim=1)\n",
              ")"
            ]
          },
          "metadata": {},
          "execution_count": 18
        }
      ]
    },
    {
      "cell_type": "code",
      "source": [
        "correct = 0\n",
        "total = 0\n",
        "\n",
        "with torch.no_grad():\n",
        "    for i, l in valr:\n",
        "        o = model(i)\n",
        "        _, y_hat = torch.max(o, 1) ## let me explain this thing below!\n",
        "        total += l.size(0)\n",
        "        correct += (y_hat == l).sum().item()\n",
        "\n",
        "accuracy = 100 * correct / total\n",
        "print(f'Accuracy on the validation set: {accuracy:.2f}%')"
      ],
      "metadata": {
        "colab": {
          "base_uri": "https://localhost:8080/"
        },
        "id": "17ieCIg4Z7Ac",
        "outputId": "5d190901-e786-4d41-bdd8-992a9ebd6f1f"
      },
      "execution_count": null,
      "outputs": [
        {
          "output_type": "stream",
          "name": "stdout",
          "text": [
            "Accuracy on the validation set: 96.13%\n"
          ]
        }
      ]
    },
    {
      "cell_type": "markdown",
      "source": [
        "let's say this is our output after the first batch ..\n",
        "\n",
        "**o** = `[[2.0, 0.5, 1.0, 4.0, 0.2, 0.1, 1.5, 0.3, 0.0, 0.1],\n",
        "     [0.1, 1.0, 0.3, 0.2, 0.0, 3.0, 0.5, 0.1, 0.4, 0.2],\n",
        "     [1.0, 0.5, 3.5, 0.4, 0.0, 0.1, 2.0, 1.0, 0.2, 0.3]]`\n",
        "\n",
        "\n",
        "* Row 1: The maximum value is `4.0` at index 3\n",
        "* Row 2: The maximum value is `3.0` at index 5\n",
        "* Row 3: The maximum value is `3.5` at index 2\n",
        "\n",
        "\n",
        "When we call torch.max(o, 1), we get:\n",
        "\n",
        "1. Maximum values:\n",
        "`[4.0, 3.0, 3.5]`\n",
        "2. Indices of the maximum values (what we care about): **y_hat** = `[3, 5, 2]`"
      ],
      "metadata": {
        "id": "g7FD6b52mTYG"
      }
    },
    {
      "cell_type": "markdown",
      "source": [
        "\n",
        "\n",
        "---\n",
        "\n",
        "\n",
        "\n",
        "---\n",
        "\n"
      ],
      "metadata": {
        "id": "u1UnG31tnRPY"
      }
    },
    {
      "cell_type": "markdown",
      "source": [
        "## **Convolutional Neural Networks**"
      ],
      "metadata": {
        "id": "mlcygC54VDmF"
      }
    },
    {
      "cell_type": "code",
      "source": [],
      "metadata": {
        "id": "PywkBUoBZ63V"
      },
      "execution_count": null,
      "outputs": []
    },
    {
      "cell_type": "code",
      "source": [],
      "metadata": {
        "id": "DYrt6H4MZ605"
      },
      "execution_count": null,
      "outputs": []
    },
    {
      "cell_type": "code",
      "source": [],
      "metadata": {
        "id": "tnRVzkkGZ6yU"
      },
      "execution_count": null,
      "outputs": []
    },
    {
      "cell_type": "code",
      "source": [],
      "metadata": {
        "id": "Ij_GcbmzZ6vh"
      },
      "execution_count": null,
      "outputs": []
    },
    {
      "cell_type": "code",
      "source": [],
      "metadata": {
        "id": "v1AWQA_4Z6st"
      },
      "execution_count": null,
      "outputs": []
    }
  ]
}