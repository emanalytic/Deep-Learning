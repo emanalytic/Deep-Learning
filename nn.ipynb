{
 "cells": [
  {
   "cell_type": "code",
   "execution_count": 1,
   "id": "90188a26-2a5e-4211-97a1-15873dbb8c6c",
   "metadata": {},
   "outputs": [],
   "source": [
    "# imports \n",
    "import cv2\n",
    "import matplotlib.pyplot as plt \n",
    "import numpy as np"
   ]
  },
  {
   "cell_type": "code",
   "execution_count": 2,
   "id": "01894c48-525f-402a-b395-f37adcb62c45",
   "metadata": {},
   "outputs": [
    {
     "data": {
      "text/plain": [
       "(1308, 736)"
      ]
     },
     "execution_count": 2,
     "metadata": {},
     "output_type": "execute_result"
    }
   ],
   "source": [
    "image = 'image.jpg'\n",
    "image = cv2.imread(image, cv2.IMREAD_GRAYSCALE)\n",
    "image.shape"
   ]
  },
  {
   "cell_type": "code",
   "execution_count": 3,
   "id": "75ec654f-aad7-4e02-aa50-2cb9cbc7d020",
   "metadata": {},
   "outputs": [
    {
     "name": "stdout",
     "output_type": "stream",
     "text": [
      "input pixels: 962688\n"
     ]
    }
   ],
   "source": [
    "print('input pixels:', 1308 * 736)"
   ]
  },
  {
   "cell_type": "code",
   "execution_count": 4,
   "id": "e1822f7b-20e1-4f4f-b9e4-26c724a5371c",
   "metadata": {},
   "outputs": [
    {
     "data": {
      "text/plain": [
       "<matplotlib.image.AxesImage at 0x21f6c3f4f90>"
      ]
     },
     "execution_count": 4,
     "metadata": {},
     "output_type": "execute_result"
    },
    {
     "data": {
      "image/png": "[encoded data removed]",
      "text/plain": [
       "<Figure size 640x480 with 1 Axes>"
      ]
     },
     "metadata": {},
     "output_type": "display_data"
    }
   ],
   "source": [
    "plt.imshow(image)"
   ]
  },
  {
   "cell_type": "code",
   "execution_count": 5,
   "id": "ae42b94a-da15-4d13-b617-3a0a01efd934",
   "metadata": {},
   "outputs": [
    {
     "data": {
      "text/plain": [
       "<matplotlib.image.AxesImage at 0x21f6c506fd0>"
      ]
     },
     "execution_count": 5,
     "metadata": {},
     "output_type": "execute_result"
    },
    {
     "data": {
      "image/png": "[encoded data removed]",
      "text/plain": [
       "<Figure size 640x480 with 1 Axes>"
      ]
     },
     "metadata": {},
     "output_type": "display_data"
    }
   ],
   "source": [
    "image = cv2.resize(image, (28, 28))\n",
    "plt.imshow(image)"
   ]
  },
  {
   "cell_type": "code",
   "execution_count": 6,
   "id": "e21bdfb2-ef27-48be-9013-ea650c087a48",
   "metadata": {},
   "outputs": [
    {
     "data": {
      "text/plain": [
       "(28, 28)"
      ]
     },
     "execution_count": 6,
     "metadata": {},
     "output_type": "execute_result"
    }
   ],
   "source": [
    "## normalization\n",
    "image = image / 255.0\n",
    "image.shape"
   ]
  },
  {
   "cell_type": "markdown",
   "id": "e0068630-ed50-44ef-8825-dfc24c066624",
   "metadata": {},
   "source": [
    "\n",
    "* input layer \n",
    "* weigths + biases -> input layer\n",
    "### Forward Pass\n",
    "* hidden layers\n",
    "* activation functions \n",
    "* output layer\n",
    "## Backward Pass\n",
    "* loss function \n",
    "* backpropogation \n",
    "* iterative learning "
   ]
  },
  {
   "cell_type": "code",
   "execution_count": 8,
   "id": "f87207ab-96cd-4084-aef5-8728bdb0559d",
   "metadata": {},
   "outputs": [
    {
     "data": {
      "text/plain": [
       "(784, 1)"
      ]
     },
     "execution_count": 8,
     "metadata": {},
     "output_type": "execute_result"
    }
   ],
   "source": [
    "## we have to flat the pixels like -> 28 * 28 = 784\n",
    "image = image.flatten()\n",
    "image = np.expand_dims(image, axis=1)\n",
    "image.shape"
   ]
  },
  {
   "cell_type": "markdown",
   "id": "f15a5f06-b2c8-476b-9af6-55a71d57cf65",
   "metadata": {},
   "source": [
    "##  Weights and Biases\n",
    "\n",
    "In a neural network, every connection between neurons has a weight, which determines the influence one neuron exerts on another. We begin by initializing these weights with small random values.\n",
    "\n",
    "> *I want to observe how the neural network updates the weights through backpropagation, demonstrating its ability to **learn patterns**.*\n",
    "\n",
    "**Dimensions of Weights:**\n",
    "For an input vector `n` (784 for a 28 x 28 image) and a hidden layer with `m` neurons, the weight matrix connecting the input layer to the hidden layer will be sized `m x n`.\n",
    "\n",
    "**Biases:**\n",
    "The bias term is a constant added to the weighted sum of inputs. We typically initialize biases to zero rather than random values to allow the model to focus on learning from the weights without introducing unnecessary variability."
   ]
  },
  {
   "cell_type": "code",
   "execution_count": 10,
   "id": "06cdc5ab-839f-4095-b476-b60de888e08d",
   "metadata": {},
   "outputs": [],
   "source": [
    "neurons = 128"
   ]
  },
  {
   "cell_type": "code",
   "execution_count": 11,
   "id": "7b0035c6-4345-4bd2-904e-653d1652d7bf",
   "metadata": {},
   "outputs": [
    {
     "data": {
      "text/plain": [
       "(128, 784)"
      ]
     },
     "execution_count": 11,
     "metadata": {},
     "output_type": "execute_result"
    }
   ],
   "source": [
    "i_w = np.random.randn(neurons, 784) * 0.01 # prevent the network from starting with values that are too large\n",
    "i_w.shape"
   ]
  },
  {
   "cell_type": "code",
   "execution_count": 12,
   "id": "d0894d53-5216-4bf1-af85-4c05eb42185c",
   "metadata": {},
   "outputs": [
    {
     "data": {
      "text/plain": [
       "(128, 1)"
      ]
     },
     "execution_count": 12,
     "metadata": {},
     "output_type": "execute_result"
    }
   ],
   "source": [
    "bh = np.zeros((neurons, 1)) # same as hidden shape \n",
    "bh.shape"
   ]
  },
  {
   "cell_type": "markdown",
   "id": "9547dfbe-9948-4038-bf3a-be84bf1a0069",
   "metadata": {},
   "source": [
    "## forward pass\n",
    "dot product of input vector and the weight matrix, plus the bias\n",
    "\n",
    "**hidden_layer = Weights_Matrix . Input_Vector + Bias**\\\n",
    "(128, 1) = (128, 784) . (784, 1) + `(128, 1)`\\\n",
    "hidden_layer = (128, 1) + (128, 1)\n",
    "\n",
    "\n",
    "**(Note!)** *matrix addition rules -> if matrix order is same*"
   ]
  },
  {
   "cell_type": "code",
   "execution_count": 14,
   "id": "eee84942-ab5f-49c2-ad1e-fc5fc189c91c",
   "metadata": {},
   "outputs": [
    {
     "data": {
      "text/plain": [
       "(128, 1)"
      ]
     },
     "execution_count": 14,
     "metadata": {},
     "output_type": "execute_result"
    }
   ],
   "source": [
    "#  hidden layer\n",
    "h = np.dot(i_w, image) + bh\n",
    "h.shape"
   ]
  },
  {
   "cell_type": "markdown",
   "id": "aac9dea6-586c-4535-8357-af6d3332f22c",
   "metadata": {},
   "source": [
    "## Activation functions\n",
    "> How they add \"**non-linearity** in models which are basically linear?\"\n",
    "\n",
    "Linear function: `H = W . I + b `\\\n",
    "non-linear function: `H = f(W.I + b)` where `f` is the activation function\\\n",
    "basically we're using this to add a uncertainity in our models instead of constant\\\n",
    "Also they prevent the problems like vanishing and exploding gradients\n"
   ]
  },
  {
   "cell_type": "markdown",
   "id": "a34ea346-fb07-49f7-a4e8-c8241776c01f",
   "metadata": {},
   "source": [
    "## Perceptron-based network \n",
    "which only output 0 and 1 based on the sign of values not the values itself\n",
    "\n",
    "**Suppose we take all the weights and biases in a network of\n",
    "perceptrons, and multiply them by a positive constant,Show that the behaviour of the network doesn't change**\n",
    "\n",
    "> *c ∑wi. xi +b)* where c is the + constant so according to the output rule the value is positive so it will give 1 and not really effecting the network.\n"
   ]
  },
  {
   "cell_type": "markdown",
   "id": "71c0e14e-4bfd-42a1-9244-67a8740ceb6b",
   "metadata": {},
   "source": [
    "\n",
    "\n",
    "**Suppose we have the same setup as the last problem - a network of perceptrons. Suppose also that the overall input to the network of perceptrons has been chosen. We won't need the actual input value; we just need the input to have been fixed. Suppose the weights and biases are such that, for the input to any particular perceptron in the network. Now replace all the perceptrons in the network by sigmoid neurons, and multiply the weights and biases by a positive constant c. Show that in the limit as c approaches infinity, the behavior of this network of sigmoid neurons is exactly the same as the network of perceptrons. How can this fail when for one of the perceptron's?**\n",
    "\n",
    "> So in this case we are using sigmoid activation function which is like $f(c) = 1 / 1 + exp(-c)$ so in this case if we the constant is reaching to +inf the $exp(-inf)$ approaches to 0 therefore the output will be 1. and same in the perceptron based network the output depends on the sign of the weighted sum in that case it always be the + constant and output always be 1. "
   ]
  },
  {
   "cell_type": "markdown",
   "id": "98d4a5c2-be11-47d3-b5f0-27aa0954ff51",
   "metadata": {},
   "source": [
    "All hidden layers use the same activation function while the output layer uses another activation function"
   ]
  },
  {
   "cell_type": "code",
   "execution_count": 19,
   "id": "bf7e4412-0f59-4fe1-80fa-e60a50b411a9",
   "metadata": {},
   "outputs": [],
   "source": [
    "# reLU \n",
    "fh = np.maximum(h, 0)"
   ]
  },
  {
   "cell_type": "code",
   "execution_count": 20,
   "id": "c8e17479-ab2e-4d0a-a3ce-12dfea04c87f",
   "metadata": {},
   "outputs": [
    {
     "data": {
      "text/plain": [
       "(2, 1)"
      ]
     },
     "execution_count": 20,
     "metadata": {},
     "output_type": "execute_result"
    }
   ],
   "source": [
    "# output layer \n",
    "n_o = 2 ## binary classification (for the sake of simplicity )\n",
    "w_o = np.random.randn(n_o, neurons) * 0.01 \n",
    "bo = np.zeros((n_o, 1)) \n",
    "bo.shape"
   ]
  },
  {
   "cell_type": "code",
   "execution_count": 21,
   "id": "c7c49045-1894-4855-9b4c-521a3dd8d7f7",
   "metadata": {},
   "outputs": [
    {
     "name": "stdout",
     "output_type": "stream",
     "text": [
      "[[0.50092796]\n",
      " [0.5007127 ]]\n"
     ]
    },
    {
     "data": {
      "text/plain": [
       "array([1.00164067])"
      ]
     },
     "execution_count": 21,
     "metadata": {},
     "output_type": "execute_result"
    }
   ],
   "source": [
    "o = np.dot(w_o, h) + bo\n",
    "e = 1 + np.exp(-o)\n",
    "y_hat = 1 / e ## sigmoid activation \n",
    "print(y_hat)\n",
    "y_hat[0] + y_hat[1]"
   ]
  },
  {
   "cell_type": "code",
   "execution_count": 22,
   "id": "3413f32d-d079-429e-a5ad-b93b4f17f5dd",
   "metadata": {},
   "outputs": [
    {
     "data": {
      "text/plain": [
       "0.6947892164251839"
      ]
     },
     "execution_count": 22,
     "metadata": {},
     "output_type": "execute_result"
    }
   ],
   "source": [
    "## Calculating the loss  \n",
    "y = np.array([[0]])\n",
    "y_pred = np.clip(y_hat, 1e-15, 1 - 1e-15) ## to avoid log(0) = undefined\n",
    "loss = -np.mean(y * np.log(y_pred) + (1 - y)  * np.log(1 - y_pred))\n",
    "loss"
   ]
  },
  {
   "cell_type": "markdown",
   "id": "44a0276d-ad03-4f1a-a369-3cbd37efc268",
   "metadata": {},
   "source": [
    "# Backpropogation\n",
    "calculate the gradients of the loss with respect to each weight in the network and update the weights accordingly.\n",
    "\n",
    "**But what are even gradients ??**\n",
    "The rate of change of function w.r.t to its input and the term \"**function**\" represents loss function. So we wanna see how sensitive the loss is to changes in the model’s parameters (weights and biases).. \n",
    "\n",
    "So in this way we have to take partial derivative of loss w.r.t to the model's weights \n",
    "> $∇L= ∂L / ∂wi$\n",
    "​\n",
    "\n",
    "**Partial Derivative**: *It is a derivative where we take the derivative of a function with respect to one variable while keeping all other variables constant.in the context of neural networks, we have a loss function `𝐿` that depends on multiple parameters (like weights `𝑤1,w2,…,𝑤𝑛`).\n",
    "the partial derivative of the loss with respect to a particular weight `𝑤𝑖`  tells us how much the loss will change if we change that specific weight while keeping all other weights constant.*\n",
    "\n",
    "**If this derivative is large, it means small changes to ​will significantly affect the loss. If it’s small, changes to will have little effect on the loss**\n",
    "## Compute Gradients:\n",
    "* Step 01: differentiation of loss function w.r.t to predictions\n",
    "* Step 02: using chain rule because predicted ouput y_hat is influenced by weights here we have composite function (simply function in function) that's why we are applying chain rule in order to calculate the derivative\n",
    "$$"
   ]
  },
  {
   "cell_type": "markdown",
   "id": "417276c6-12e6-430b-8970-33a992e3f660",
   "metadata": {},
   "source": [
    "\n",
    "$$ \n",
    "\\frac{\\partial L}{\\partial w_i} = \\frac{\\partial \\hat{y}}{\\partial L} \\cdot \\frac{\\partial w_i}{\\partial \\hat{y}}\n",
    "$$\n",
    "> Here, first part represents how the loss changes with respect to the predictions, and second portion shows how changes in the weights affect the predictions."
   ]
  },
  {
   "cell_type": "markdown",
   "id": "a9a4f5d0-c95b-42d1-9f39-bb060fb2d55e",
   "metadata": {},
   "source": [
    "(**Note!**) *Differentiation is the process of finding the derivative of function while **derivative** is the result of differentiation*"
   ]
  },
  {
   "cell_type": "markdown",
   "id": "d14f82c4-1cea-46ac-9fa3-9f666ee5fdab",
   "metadata": {},
   "source": [
    "\n",
    "so in neural network that's how we gonna proceed\n",
    "1. gradient of loss w.r.t to prediction \n",
    "2. Calculate the gradients of output layer (its activation function and weights + biases)\n",
    "3. gradients of hidden layer(w.r.t weights and biases of that hidden layer)\\\n",
    "**(it will tell how much the output layer's predictions  and hidden layer output contributed to the loss)**\n",
    "4. Update the weight and biases to the point when we reach global minimun of our cost function. (gradient descent)\n",
    "\n",
    "\n",
    "\n",
    "gonna use `autograd` lib here to calculate the derivatives because i already know how to calculate them :> \n"
   ]
  },
  {
   "cell_type": "code",
   "execution_count": 27,
   "id": "416b4009-e493-4e1a-8e34-e499b933fe15",
   "metadata": {},
   "outputs": [],
   "source": [
    "!pip install -q autograd"
   ]
  },
  {
   "cell_type": "code",
   "execution_count": 28,
   "id": "e8beedba-3529-4709-8e54-8bbd2d0ae18a",
   "metadata": {},
   "outputs": [],
   "source": [
    "from autograd import numpy as anp\n",
    "from autograd import grad"
   ]
  },
  {
   "cell_type": "code",
   "execution_count": 29,
   "id": "23092977-ee0b-496d-909d-60f4699dc359",
   "metadata": {},
   "outputs": [
    {
     "data": {
      "text/plain": [
       "array([[2.00371875],\n",
       "       [2.00285488]])"
      ]
     },
     "execution_count": 29,
     "metadata": {},
     "output_type": "execute_result"
    }
   ],
   "source": [
    "## w.r.t to y_pred\n",
    "d_y_pred = -(y / y_pred) + (1 - y) / (1 - y_pred)\n",
    "d_y_pred"
   ]
  },
  {
   "cell_type": "code",
   "execution_count": 30,
   "id": "cee9beb0-1dcc-40ad-a84a-2bdd71f6f07d",
   "metadata": {},
   "outputs": [
    {
     "data": {
      "text/plain": [
       "array([[0.50092796],\n",
       "       [0.5007127 ]])"
      ]
     },
     "execution_count": 30,
     "metadata": {},
     "output_type": "execute_result"
    }
   ],
   "source": [
    "## for output layer\n",
    "d_o = d_y_pred * (y_hat * (1 - y_hat)) ## derivative of sigmoid)\n",
    "d_o"
   ]
  },
  {
   "cell_type": "code",
   "execution_count": 31,
   "id": "db15be69-b9fc-412c-8461-11fb12099c92",
   "metadata": {},
   "outputs": [],
   "source": [
    "## for weights and biases in output layer\n",
    "d_w_o = anp.dot(d_o, h.T)\n",
    "d_bo = d_o"
   ]
  },
  {
   "cell_type": "code",
   "execution_count": 32,
   "id": "ae0b66d6-2336-4e3b-8a47-ed30ccd4ade9",
   "metadata": {},
   "outputs": [],
   "source": [
    "# Gradient for the hidden layer (using ReLU derivative)\n",
    "d_h = anp.dot(w_o.T, d_o)\n",
    "d_h[h <= 0] = 0  # relu derivative"
   ]
  },
  {
   "cell_type": "code",
   "execution_count": 33,
   "id": "7e54dced-9cc9-4058-91a1-56a2ccc89c3e",
   "metadata": {},
   "outputs": [],
   "source": [
    "# gradients for input layer weights and biases\n",
    "d_i_w = anp.dot(d_h, image.T)\n",
    "d_b_h = d_h"
   ]
  },
  {
   "cell_type": "markdown",
   "id": "9e3bd05f-ce69-48fa-9f32-4cd0a9c79a7a",
   "metadata": {},
   "source": [
    "## Connecting Learning Rate and Cauchy-Schwarz Inequality\n",
    "\n",
    "**Learning Rate**: In gradient descent, the learning rate (or step size) is how much you adjust your position based on the gradient. It's like saying, \"I'm going to move this much in the direction that decreases my function.\"\n",
    "\n",
    "**Cauchy-Schwarz Inequality**: This inequality helps us understand limits when dealing with vectors, like the gradient and our movement direction. It tells us that the way we combine these vectors (like how we move) has certain boundaries.\n",
    "\n",
    "*When you're moving based on the gradient, you want to ensure you're not taking too big of a step that could mess up your search for the minimum. The Cauchy-Schwarz inequality helps provide that framework to know what’s a reasonable move.*\n"
   ]
  },
  {
   "cell_type": "markdown",
   "id": "a3290f3f-0027-463a-a1ba-1e1541dff63d",
   "metadata": {},
   "source": [
    "\n",
    "### **Cauchy-Schwarz Inequality**\n",
    "\n",
    "The Cauchy-Schwarz inequality tells us about the relationship between vectors, specifically:\n",
    "\n",
    "$$  \n",
    "\\mathbf{u} \\cdot \\mathbf{v} \\leq \\| \\mathbf{u} \\| \\|\\mathbf{v}\\| \n",
    "$$\n",
    "\n",
    "suppose we have two lists of numbers(two vectors):\n",
    "\n",
    "List A: [2,3]\\\n",
    "List B: [4,5]\n",
    "\n",
    "First, we calculate the left side of the Cauchy-Schwarz inequality, which is the sum of the products of corresponding elements(dot product of vectors) from both lists:\n",
    "$(2⋅4) + (3⋅5)= 8+15=23$\n",
    "\n",
    "now the right side which involves finding the sum of squares of each list \n",
    "\n",
    "for list A\\\n",
    "$2^2 + 3^2 = 4+9=13$\n",
    "\n",
    "for list B\\\n",
    "$4^2 + 5^2 = 16 + 25 = 41$\n",
    "\n",
    "multiply these two sums \n",
    "$13 . 41 = 533$\n",
    "\n",
    "according to cauchy schwarz inequality the square of the sum of products should be less than or equal to the product of sum of the squares\\\n",
    "$(23)^2 \\leq 533$ where $(23)^2 = 529$"
   ]
  },
  {
   "cell_type": "markdown",
   "id": "71e131dd-e94a-4d75-82cb-b191fb13569e",
   "metadata": {},
   "source": [
    "### **Limits of the Learning Rate**\n",
    "\n",
    "- **Too Small**: If your learning rate is very small you will take tiny steps while this can ensure stability and precision it means that convergence to the minimum will be very slow and result in long training times especially in large datasets or complex models\n",
    "\n",
    "- **Too Large**: if the learning rate is too large you risk overshooting the minimum so instead of converging to the lowest point of the function it might bounce back and forth across it or even diverge, meaning your function values keep increasing instead of decreasing\n"
   ]
  },
  {
   "cell_type": "markdown",
   "id": "ee7b424d-5c0a-4bc4-9155-202eaec0cdc5",
   "metadata": {},
   "source": [
    "In terms of gradient descent:\n",
    "\n",
    "- **Vector Direction**: The gradient $\\nabla f(x)$ indicates the direction of the steepest ascent. Moving in the opposite direction (for minimization) means taking a step toward reducing the function value.\n",
    "\n",
    "\n",
    "- **Magnitude of Step**: When you apply the learning rate to the gradient, you're effectively scaling the gradient vector. The Cauchy-Schwarz inequality suggests that the size of your movement (step) should respect the relationship between the gradient's size and direction. This prevents taking steps that are disproportionate to the gradient's direction."
   ]
  },
  {
   "cell_type": "code",
   "execution_count": 38,
   "id": "29d73189-fc16-445e-841c-0253288fa332",
   "metadata": {},
   "outputs": [],
   "source": [
    "lr = 0.001 ## learning rate "
   ]
  },
  {
   "cell_type": "code",
   "execution_count": 39,
   "id": "fe8ea98a-853c-469d-bfa5-ac99b26fb921",
   "metadata": {},
   "outputs": [],
   "source": [
    "# update parameters\n",
    "\n",
    "i_w -= lr * d_i_w\n",
    "bh -= lr * d_b_h\n",
    "w_o -= lr * d_w_o\n",
    "bo -= lr * d_bo"
   ]
  },
  {
   "cell_type": "markdown",
   "id": "87e8ae1e-af1c-422e-b471-205ce6e7633e",
   "metadata": {},
   "source": [
    "tadaa!"
   ]
  },
  {
   "cell_type": "code",
   "execution_count": null,
   "id": "46b21c22-2cec-49d7-bdc5-fa42d13c4a26",
   "metadata": {},
   "outputs": [],
   "source": []
  }
 ],
 "metadata": {
  "kernelspec": {
   "display_name": "Python 3 (ipykernel)",
   "language": "python",
   "name": "python3"
  },
  "language_info": {
   "codemirror_mode": {
    "name": "ipython",
    "version": 3
   },
   "file_extension": ".py",
   "mimetype": "text/x-python",
   "name": "python",
   "nbconvert_exporter": "python",
   "pygments_lexer": "ipython3",
   "version": "3.11.5"
  }
 },
 "nbformat": 4,
 "nbformat_minor": 5
}
